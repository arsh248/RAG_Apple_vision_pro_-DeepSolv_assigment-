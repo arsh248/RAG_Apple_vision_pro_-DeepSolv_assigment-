{
 "cells": [
  {
   "cell_type": "code",
   "execution_count": 21,
   "metadata": {},
   "outputs": [
    {
     "name": "stdout",
     "output_type": "stream",
     "text": [
      "Content saved to knowledge_base/Apple_Vision_Pro_webdata.pdf\n"
     ]
    }
   ],
   "source": [
    "import requests\n",
    "from bs4 import BeautifulSoup\n",
    "import os\n",
    "\n",
    "def scrape_apple_vision_pro():\n",
    "    # URL of the Apple Vision Pro landing page\n",
    "    url = \"https://www.apple.com/apple-vision-pro/\"\n",
    "    \n",
    "    # Send a request to the URL\n",
    "    response = requests.get(url)\n",
    "    \n",
    "    # Check if the request was successful\n",
    "    if response.status_code == 200:\n",
    "        # Parse the HTML content using BeautifulSoup\n",
    "        soup = BeautifulSoup(response.content, 'html.parser')\n",
    "        \n",
    "        # Extract relevant data\n",
    "        content = ''\n",
    "        \n",
    "        # Extract text from all relevant tags\n",
    "        for tag in soup.find_all(['h1', 'h2', 'h3', 'p']):\n",
    "            content += tag.get_text(strip=True) + \"\\n\"\n",
    "        \n",
    "        return content\n",
    "    else:\n",
    "        return \"Failed to retrieve the webpage.\"\n",
    "\n",
    "# Scrape the content from the website\n",
    "content = scrape_apple_vision_pro()\n",
    "\n",
    "# Save the scraped content to a PDF\n",
    "pdf_filename = \"knowledge_base/Apple_Vision_Pro_webdata.pdf\"\n",
    "save_content_to_pdf(content, pdf_filename)\n",
    "\n",
    "print(f\"Content saved to {pdf_filename}\")\n"
   ]
  },
  {
   "cell_type": "code",
   "execution_count": null,
   "metadata": {},
   "outputs": [],
   "source": []
  }
 ],
 "metadata": {
  "kernelspec": {
   "display_name": "Python 3",
   "language": "python",
   "name": "python3"
  },
  "language_info": {
   "codemirror_mode": {
    "name": "ipython",
    "version": 3
   },
   "file_extension": ".py",
   "mimetype": "text/x-python",
   "name": "python",
   "nbconvert_exporter": "python",
   "pygments_lexer": "ipython3",
   "version": "3.11.3"
  }
 },
 "nbformat": 4,
 "nbformat_minor": 2
}
